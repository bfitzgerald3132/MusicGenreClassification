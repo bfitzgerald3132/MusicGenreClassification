{
 "cells": [
  {
   "cell_type": "code",
   "execution_count": null,
   "metadata": {
    "colab": {
     "base_uri": "https://localhost:8080/"
    },
    "executionInfo": {
     "elapsed": 33419,
     "status": "ok",
     "timestamp": 1706300779075,
     "user": {
      "displayName": "Ben Fitzgerald",
      "userId": "07672776477291600152"
     },
     "user_tz": 300
    },
    "id": "Jx19U7401LKB",
    "outputId": "80825cd5-7dad-41e5-92a2-45cae5b6741b"
   },
   "outputs": [],
   "source": [
    "!pip install fastaudio"
   ]
  },
  {
   "cell_type": "code",
   "execution_count": null,
   "metadata": {
    "colab": {
     "base_uri": "https://localhost:8080/"
    },
    "executionInfo": {
     "elapsed": 9007,
     "status": "ok",
     "timestamp": 1706300805204,
     "user": {
      "displayName": "Ben Fitzgerald",
      "userId": "07672776477291600152"
     },
     "user_tz": 300
    },
    "id": "SD3H9Laf3UZ5",
    "outputId": "f0fd5d90-f597-4d85-92bd-4e47f0378c64"
   },
   "outputs": [],
   "source": [
    "!pip install -U fastai\n",
    "# If weird torch install error thing shows up, go into path, replace erroneous line with the following: from torch.hub import load_state_dict_from_url"
   ]
  },
  {
   "cell_type": "code",
   "execution_count": null,
   "metadata": {
    "id": "NHNCZauk-VYR"
   },
   "outputs": [],
   "source": [
    "!pip show fastai"
   ]
  },
  {
   "cell_type": "code",
   "execution_count": null,
   "metadata": {
    "id": "zeAbVAHcpufa"
   },
   "outputs": [],
   "source": [
    "!pip install pydub\n",
    "!pip install moviepy"
   ]
  },
  {
   "cell_type": "code",
   "execution_count": 1,
   "metadata": {
    "colab": {
     "base_uri": "https://localhost:8080/"
    },
    "executionInfo": {
     "elapsed": 13193,
     "status": "ok",
     "timestamp": 1706300979180,
     "user": {
      "displayName": "Ben Fitzgerald",
      "userId": "07672776477291600152"
     },
     "user_tz": 300
    },
    "id": "nl-4MTXgDPfF",
    "outputId": "e48ebee6-85f9-4a7f-aab5-103d4d6ed16a",
    "tags": []
   },
   "outputs": [
    {
     "name": "stderr",
     "output_type": "stream",
     "text": [
      "C:\\Users\\benjy\\anaconda3\\Lib\\site-packages\\fastaudio\\__init__.py:10: UserWarning: torchaudio._backend.set_audio_backend has been deprecated. With dispatcher enabled, this function is no-op. You can remove the function call.\n",
      "  torchaudio.set_audio_backend(backend)\n",
      "C:\\Users\\benjy\\anaconda3\\Lib\\site-packages\\paramiko\\transport.py:219: CryptographyDeprecationWarning: Blowfish has been deprecated\n",
      "  \"class\": algorithms.Blowfish,\n"
     ]
    }
   ],
   "source": [
    "# NO NEED TO INSTALL ANYTHING ELSE\n",
    "import os\n",
    "from fastai.vision.all import *\n",
    "from fastaudio.core.all import *\n",
    "from fastaudio.augment.all import *"
   ]
  },
  {
   "cell_type": "code",
   "execution_count": 9,
   "metadata": {
    "id": "8JY5igdHInQk",
    "tags": []
   },
   "outputs": [],
   "source": [
    "PATH_TO_DATASET = \"dataset\"\n",
    "CLASSICAL_CODE = 0\n",
    "JAZZ_CODE = 1\n",
    "ROCK_CODE = 2\n",
    "HIP_HOP_CODE = 3\n",
    "LENGTH_OF_CLIP = 5000\n",
    "\n",
    "fnames = get_files(PATH_TO_DATASET, extensions=\".wav\", recurse=True)"
   ]
  },
  {
   "cell_type": "code",
   "execution_count": 3,
   "metadata": {
    "id": "GxC71Hf3pABI",
    "tags": []
   },
   "outputs": [
    {
     "data": {
      "text/plain": [
       "18704"
      ]
     },
     "execution_count": 3,
     "metadata": {},
     "output_type": "execute_result"
    }
   ],
   "source": [
    "len(fnames)"
   ]
  },
  {
   "cell_type": "code",
   "execution_count": 14,
   "metadata": {
    "id": "HaTCVkEsH-Oz",
    "tags": []
   },
   "outputs": [
    {
     "data": {
      "text/plain": [
       "[0, 1, 2, 3]"
      ]
     },
     "execution_count": 14,
     "metadata": {},
     "output_type": "execute_result"
    }
   ],
   "source": [
    "resized = 1000\n",
    "\n",
    "cfg = AudioConfig.Voice()\n",
    "aud2spec = AudioToSpec.from_cfg(cfg)\n",
    "crop1s = ResizeSignal(resized)\n",
    "pipe = Pipeline([AudioTensor.create, crop1s, aud2spec])\n",
    "\n",
    "item_tfms = [ResizeSignal(resized), aud2spec]\n",
    "\n",
    "def _get_labels(x):\n",
    "    x = str(x).split(\"\\\\\")[-2]\n",
    "    match x:\n",
    "        case \"Classical\": return CLASSICAL_CODE\n",
    "        case \"Jazz\": return JAZZ_CODE\n",
    "        case \"Rock\": return ROCK_CODE\n",
    "        case \"Hip Hop\": return HIP_HOP_CODE\n",
    "    raise Exception(\"Expected genre label, found \" + x)\n",
    "\n",
    "sounds = DataBlock(blocks=(AudioBlock, CategoryBlock),\n",
    "                 get_items=get_audio_files,\n",
    "                 splitter=RandomSplitter(),\n",
    "                 item_tfms = item_tfms,\n",
    "                 get_y=_get_labels)\n",
    "dls = sounds.dataloaders(PATH_TO_DATASET, bs=64)\n",
    "dls.valid.vocab"
   ]
  },
  {
   "cell_type": "code",
   "execution_count": 15,
   "metadata": {
    "id": "uNgUKhlNIMVI",
    "tags": []
   },
   "outputs": [],
   "source": [
    "def alter_learner(learn, n_channels=1):\n",
    "  \"Adjust a `Learner`'s model to accept `1` channel\"\n",
    "  layer = learn.model[0][0]\n",
    "  layer.in_channels=n_channels\n",
    "  layer.weight = nn.Parameter(layer.weight[:,1,:,:].unsqueeze(1))\n",
    "  learn.model[0][0] = layer"
   ]
  },
  {
   "cell_type": "code",
   "execution_count": 16,
   "metadata": {
    "id": "8-eWHLW0IN27",
    "tags": []
   },
   "outputs": [],
   "source": [
    "learn = Learner(dls, xresnet18(), metrics=accuracy)\n",
    "alter_learner(learn, 1)"
   ]
  },
  {
   "cell_type": "code",
   "execution_count": 17,
   "metadata": {
    "id": "S9I7C11BIPJ0",
    "tags": []
   },
   "outputs": [
    {
     "data": {
      "text/html": [
       "\n",
       "<style>\n",
       "    /* Turns off some styling */\n",
       "    progress {\n",
       "        /* gets rid of default border in Firefox and Opera. */\n",
       "        border: none;\n",
       "        /* Needs to be in here for Safari polyfill so background images work as expected. */\n",
       "        background-size: auto;\n",
       "    }\n",
       "    progress:not([value]), progress:not([value])::-webkit-progress-bar {\n",
       "        background: repeating-linear-gradient(45deg, #7e7e7e, #7e7e7e 10px, #5c5c5c 10px, #5c5c5c 20px);\n",
       "    }\n",
       "    .progress-bar-interrupted, .progress-bar-interrupted::-webkit-progress-bar {\n",
       "        background: #F44336;\n",
       "    }\n",
       "</style>\n"
      ],
      "text/plain": [
       "<IPython.core.display.HTML object>"
      ]
     },
     "metadata": {},
     "output_type": "display_data"
    },
    {
     "data": {
      "text/html": [],
      "text/plain": [
       "<IPython.core.display.HTML object>"
      ]
     },
     "metadata": {},
     "output_type": "display_data"
    },
    {
     "data": {
      "text/plain": [
       "SuggestedLRs(valley=0.002511886414140463)"
      ]
     },
     "execution_count": 17,
     "metadata": {},
     "output_type": "execute_result"
    },
    {
     "data": {
      "image/png": "[encoded data removed]",
      "text/plain": [
       "<Figure size 640x480 with 1 Axes>"
      ]
     },
     "metadata": {},
     "output_type": "display_data"
    }
   ],
   "source": [
    "lr = learn.lr_find() # SuggestedLRs(valley=0.002511886414140463)\n",
    "lr"
   ]
  },
  {
   "cell_type": "markdown",
   "metadata": {
    "id": "QlpuTsrAgjlY"
   },
   "source": [
    "SuggestedLRs(valley=4.365158383734524e-05)\n"
   ]
  },
  {
   "cell_type": "code",
   "execution_count": 18,
   "metadata": {
    "colab": {
     "base_uri": "https://localhost:8080/",
     "height": 237
    },
    "executionInfo": {
     "elapsed": 6803520,
     "status": "ok",
     "timestamp": 1706227971151,
     "user": {
      "displayName": "Ben Fitzgerald",
      "userId": "07672776477291600152"
     },
     "user_tz": 300
    },
    "id": "Guqj-U4qIQhy",
    "outputId": "f76968fc-63aa-4187-fefb-60379fb7157d",
    "tags": []
   },
   "outputs": [
    {
     "data": {
      "text/html": [
       "\n",
       "<style>\n",
       "    /* Turns off some styling */\n",
       "    progress {\n",
       "        /* gets rid of default border in Firefox and Opera. */\n",
       "        border: none;\n",
       "        /* Needs to be in here for Safari polyfill so background images work as expected. */\n",
       "        background-size: auto;\n",
       "    }\n",
       "    progress:not([value]), progress:not([value])::-webkit-progress-bar {\n",
       "        background: repeating-linear-gradient(45deg, #7e7e7e, #7e7e7e 10px, #5c5c5c 10px, #5c5c5c 20px);\n",
       "    }\n",
       "    .progress-bar-interrupted, .progress-bar-interrupted::-webkit-progress-bar {\n",
       "        background: #F44336;\n",
       "    }\n",
       "</style>\n"
      ],
      "text/plain": [
       "<IPython.core.display.HTML object>"
      ]
     },
     "metadata": {},
     "output_type": "display_data"
    },
    {
     "data": {
      "text/html": [
       "<table border=\"1\" class=\"dataframe\">\n",
       "  <thead>\n",
       "    <tr style=\"text-align: left;\">\n",
       "      <th>epoch</th>\n",
       "      <th>train_loss</th>\n",
       "      <th>valid_loss</th>\n",
       "      <th>accuracy</th>\n",
       "      <th>time</th>\n",
       "    </tr>\n",
       "  </thead>\n",
       "  <tbody>\n",
       "    <tr>\n",
       "      <td>0</td>\n",
       "      <td>0.787604</td>\n",
       "      <td>0.621902</td>\n",
       "      <td>0.763636</td>\n",
       "      <td>13:58</td>\n",
       "    </tr>\n",
       "    <tr>\n",
       "      <td>1</td>\n",
       "      <td>0.525426</td>\n",
       "      <td>0.589866</td>\n",
       "      <td>0.778342</td>\n",
       "      <td>13:08</td>\n",
       "    </tr>\n",
       "    <tr>\n",
       "      <td>2</td>\n",
       "      <td>0.433685</td>\n",
       "      <td>0.455609</td>\n",
       "      <td>0.837701</td>\n",
       "      <td>13:00</td>\n",
       "    </tr>\n",
       "    <tr>\n",
       "      <td>3</td>\n",
       "      <td>0.354727</td>\n",
       "      <td>0.465750</td>\n",
       "      <td>0.826738</td>\n",
       "      <td>12:18</td>\n",
       "    </tr>\n",
       "    <tr>\n",
       "      <td>4</td>\n",
       "      <td>0.281168</td>\n",
       "      <td>0.295459</td>\n",
       "      <td>0.887968</td>\n",
       "      <td>12:16</td>\n",
       "    </tr>\n",
       "    <tr>\n",
       "      <td>5</td>\n",
       "      <td>0.252358</td>\n",
       "      <td>0.246633</td>\n",
       "      <td>0.907754</td>\n",
       "      <td>12:18</td>\n",
       "    </tr>\n",
       "  </tbody>\n",
       "</table>"
      ],
      "text/plain": [
       "<IPython.core.display.HTML object>"
      ]
     },
     "metadata": {},
     "output_type": "display_data"
    }
   ],
   "source": [
    "learn.fit_one_cycle(6, 0.002511886414140463)"
   ]
  },
  {
   "cell_type": "code",
   "execution_count": 19,
   "metadata": {
    "id": "or-AQMk75wHl",
    "tags": []
   },
   "outputs": [],
   "source": [
    "learn.export()"
   ]
  },
  {
   "cell_type": "code",
   "execution_count": null,
   "metadata": {
    "id": "BbDb4dE8Oly8"
   },
   "outputs": [],
   "source": [
    "def visualize(x,y):\n",
    "    if isinstance(x, torch.Tensor):\n",
    "        x = x.tolist()\n",
    "    if isinstance(y, torch.Tensor):\n",
    "        y = y.tolist()\n",
    "    list = x[0] + x[1]\n",
    "    plt.plot(np.array(list))\n",
    "    if (y == 1):\n",
    "        plt.xlabel(\"Classical clip\")\n",
    "    else:\n",
    "        plt.xlabel(\"Jazz clip\")\n",
    "    plt.show()"
   ]
  }
 ],
 "metadata": {
  "accelerator": "TPU",
  "colab": {
   "authorship_tag": "ABX9TyNSUfDb7evoQV/G0vezsJXD",
   "mount_file_id": "1TBzt4F6eZaZegIKzPLd9-lCCD1JMy6L2",
   "provenance": []
  },
  "kernelspec": {
   "display_name": "Python 3 (ipykernel)",
   "language": "python",
   "name": "python3"
  },
  "language_info": {
   "codemirror_mode": {
    "name": "ipython",
    "version": 3
   },
   "file_extension": ".py",
   "mimetype": "text/x-python",
   "name": "python",
   "nbconvert_exporter": "python",
   "pygments_lexer": "ipython3",
   "version": "3.11.5"
  }
 },
 "nbformat": 4,
 "nbformat_minor": 4
}
