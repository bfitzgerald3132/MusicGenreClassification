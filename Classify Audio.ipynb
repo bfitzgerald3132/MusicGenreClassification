{
 "cells": [
  {
   "cell_type": "code",
   "execution_count": null,
   "id": "gs9-RDexFoOt",
   "metadata": {
    "id": "gs9-RDexFoOt"
   },
   "outputs": [],
   "source": [
    "!pip install pytube\n",
    "!pip install pydub\n",
    "!pip install fastaudio\n",
    "!pip install -U fastai\n",
    "\n",
    "!pip install voila\n",
    "!jupyter serverextension enable --sys-prefix voila"
   ]
  },
  {
   "cell_type": "code",
   "execution_count": 1,
   "id": "7cbb1d2e-c8dd-4129-b014-4ef56a39b1c3",
   "metadata": {
    "colab": {
     "base_uri": "https://localhost:8080/"
    },
    "executionInfo": {
     "elapsed": 10527,
     "status": "ok",
     "timestamp": 1706323251363,
     "user": {
      "displayName": "Ben Fitzgerald",
      "userId": "07672776477291600152"
     },
     "user_tz": 300
    },
    "id": "7cbb1d2e-c8dd-4129-b014-4ef56a39b1c3",
    "outputId": "4f3f8744-2155-4319-a39f-dec3b7c60ddb",
    "tags": []
   },
   "outputs": [],
   "source": [
    "from pytube import YouTube\n",
    "from moviepy import editor as mp\n",
    "from pydub import AudioSegment\n",
    "import wave, os\n",
    "from fastai.vision.widgets import *\n",
    "from fastai.vision.all import *\n",
    "from fastaudio.core.all import *\n",
    "from fastaudio.augment.all import *"
   ]
  },
  {
   "cell_type": "code",
   "execution_count": 4,
   "id": "8387dba2-dcc1-441d-a65d-fda19d61a8c7",
   "metadata": {
    "colab": {
     "base_uri": "https://localhost:8080/"
    },
    "executionInfo": {
     "elapsed": 16592,
     "status": "ok",
     "timestamp": 1706323340850,
     "user": {
      "displayName": "Ben Fitzgerald",
      "userId": "07672776477291600152"
     },
     "user_tz": 300
    },
    "id": "8387dba2-dcc1-441d-a65d-fda19d61a8c7",
    "outputId": "324dda3c-293c-4a17-97f9-62025ed931ba",
    "tags": []
   },
   "outputs": [],
   "source": [
    "# Define parameters\n",
    "#from google.colab import drive\n",
    "#drive.mount('/content/drive')\n",
    "\n",
    "LENGTH_OF_CLIP = 5000\n",
    "BASE_PATH = \"\"\n",
    "if len(BASE_PATH) > 0 and BASE_PATH[-1] != '/': BASE_PATH += '/'\n",
    "\n",
    "def _get_labels(x): return 1"
   ]
  },
  {
   "cell_type": "code",
   "execution_count": 5,
   "id": "d5699e73-8956-48d3-ac2f-1713020c1d42",
   "metadata": {
    "executionInfo": {
     "elapsed": 148,
     "status": "ok",
     "timestamp": 1706323359131,
     "user": {
      "displayName": "Ben Fitzgerald",
      "userId": "07672776477291600152"
     },
     "user_tz": 300
    },
    "id": "d5699e73-8956-48d3-ac2f-1713020c1d42",
    "tags": []
   },
   "outputs": [],
   "source": [
    "def download_and_split(path, link):\n",
    "    title = download(link, path)\n",
    "    split_mp4_into_wavs(path + \"test\")\n",
    "    return title"
   ]
  },
  {
   "cell_type": "code",
   "execution_count": 6,
   "id": "8bdcfc12-6256-4873-81b8-8f1c5225c602",
   "metadata": {
    "executionInfo": {
     "elapsed": 148,
     "status": "ok",
     "timestamp": 1706323360249,
     "user": {
      "displayName": "Ben Fitzgerald",
      "userId": "07672776477291600152"
     },
     "user_tz": 300
    },
    "id": "8bdcfc12-6256-4873-81b8-8f1c5225c602",
    "tags": []
   },
   "outputs": [],
   "source": [
    "def split_mp4_into_wavs(path, length=LENGTH_OF_CLIP):\n",
    "    filename = path.split('/')[-1]\n",
    "    # Insert Local Video File Path\n",
    "    clip = mp.VideoFileClip(path + \".mp4\")\n",
    "\n",
    "    # Insert Local Audio File Path\n",
    "\n",
    "    clip.audio.write_audiofile(\"output.wav\",codec='pcm_s16le')\n",
    "    clip.close()\n",
    "\n",
    "    sound = AudioSegment.from_file(\"output.wav\", format=\"wav\", channels=1)\n",
    "\n",
    "    j = 0\n",
    "    while (j + 5000 < len(sound)):\n",
    "        j += 5000\n",
    "        chunk = sound[j:(j + 5000)]\n",
    "        with open(path+\"-%s.wav\" % j, \"wb\") as f:\n",
    "            chunk.export(f, format=\"wav\")\n",
    "    try:\n",
    "        os.remove(path + \".mp4\")\n",
    "    except:\n",
    "        print(filename + \".mp4 could not be removed\")"
   ]
  },
  {
   "cell_type": "code",
   "execution_count": 7,
   "id": "474bb93d-2570-4ce2-959a-3f1d9323fc72",
   "metadata": {
    "executionInfo": {
     "elapsed": 210,
     "status": "ok",
     "timestamp": 1706323361333,
     "user": {
      "displayName": "Ben Fitzgerald",
      "userId": "07672776477291600152"
     },
     "user_tz": 300
    },
    "id": "474bb93d-2570-4ce2-959a-3f1d9323fc72",
    "tags": []
   },
   "outputs": [],
   "source": [
    "def download(link, path):\n",
    "    audio_stream = YouTube(link).streams.filter(file_extension=\"mp4\")\n",
    "    audio_stream.first().download(output_path=path, filename=\"test.mp4\")\n",
    "    return audio_stream.first().title"
   ]
  },
  {
   "cell_type": "code",
   "execution_count": 22,
   "id": "JqwiGDjzI3RE",
   "metadata": {
    "executionInfo": {
     "elapsed": 173,
     "status": "ok",
     "timestamp": 1706323671640,
     "user": {
      "displayName": "Ben Fitzgerald",
      "userId": "07672776477291600152"
     },
     "user_tz": 300
    },
    "id": "JqwiGDjzI3RE",
    "tags": []
   },
   "outputs": [],
   "source": [
    "def predict_genre(onclick):\n",
    "    folder = BASE_PATH + \"test/\"\n",
    "    if not os.path.exists(folder):\n",
    "      os.makedirs(folder)\n",
    "    else:\n",
    "      for filename in os.listdir(folder):\n",
    "        file_path = os.path.join(folder, filename)\n",
    "        try:\n",
    "            if os.path.isfile(file_path) or os.path.islink(file_path):\n",
    "                os.unlink(file_path)\n",
    "        except Exception as e:\n",
    "            print('Failed to delete %s. Reason: %s' % (file_path, e))\n",
    "\n",
    "    link = yt_input.value\n",
    "    video_title = download_and_split(BASE_PATH + \"test/\", link)\n",
    "    files = os.listdir(BASE_PATH + \"test/\")\n",
    "\n",
    "    learn = load_learner(BASE_PATH + \"multi_category_classifier.pkl\")\n",
    "\n",
    "    results = [0, 0, 0, 0]\n",
    "    for file in files:\n",
    "      temp_path = BASE_PATH + \"test/\" + file\n",
    "      pred = int(learn.predict(Path(temp_path))[0])\n",
    "      #print(pred)\n",
    "      results[pred] += 1\n",
    "    count, final_result = max((v, i) for i, v in enumerate(results))\n",
    "    print(len(files))\n",
    "    percentage = count / len(files) * 100\n",
    "    output = \"For \" + video_title + \"... \"\n",
    "    match final_result:\n",
    "        case 0: output += \"Classical \"\n",
    "        case 1: output += \"Jazz \"\n",
    "        case 2: output += \"Rock \"\n",
    "        case 3: output += \"Hip Hop \"\n",
    "    output += \"(Confidence: \" + str(percentage) + \"%)\"\n",
    "    output_text.value = output"
   ]
  },
  {
   "cell_type": "code",
   "execution_count": 23,
   "id": "8b74df7d-c941-4c6a-8f82-a2e5d7047686",
   "metadata": {
    "colab": {
     "base_uri": "https://localhost:8080/",
     "height": 617,
     "referenced_widgets": [
      "7916931c122649ec8945a13589488e0a",
      "78fa51967be94addb97eda8517906304",
      "6a934c6b2d2a4831a02fc1225c0e6c2e",
      "3906401ca5604a0e9949bc42aeb6741a",
      "856ee72ce0ba476cab1e45c78b644252",
      "a1b4128bcbd64cfa851f234768af33a0",
      "c6dbcb6e214e47ce9bdf47611399e976",
      "2df30259a9604f3bb589706fa9f6ba2a",
      "35cecabfd6cc43ee83d3f8c826c60a51",
      "e1b19c7e62c7415c87cd0fcd49cae190",
      "8df6c830c6364c0297d5fd43b41861db",
      "42d8324145ad40c5be29c77d6ef606e2",
      "da08bb749e994ba69b06529fdc7ae575",
      "b4a60a40f0ca4f279d1a03ca986ab96a",
      "1878f4e4812b4ac3a249224e7cc95d16",
      "4398e570da884c969640462b105b6f7c",
      "d3d1132ce6ff4d16b36c577049d4e3ed",
      "0aea90e1dbb346e1bfe125c90beca3fd",
      "9c0b43b9041c4971bc49234f68ca05da",
      "28a55b792507424da1211adac49c7ef8"
     ]
    },
    "executionInfo": {
     "elapsed": 237,
     "status": "ok",
     "timestamp": 1706323673850,
     "user": {
      "displayName": "Ben Fitzgerald",
      "userId": "07672776477291600152"
     },
     "user_tz": 300
    },
    "id": "8b74df7d-c941-4c6a-8f82-a2e5d7047686",
    "outputId": "3d622432-94b0-4914-e868-15c2d228fc61",
    "tags": []
   },
   "outputs": [
    {
     "data": {
      "application/vnd.jupyter.widget-view+json": {
       "model_id": "b25044e610404fb88afc7a9cd62cbe3e",
       "version_major": 2,
       "version_minor": 0
      },
      "text/plain": [
       "VBox(children=(Label(value='Music classifier:'), Label(value=\"Using a XResNet18 architecture and fastai's lear…"
      ]
     },
     "execution_count": 23,
     "metadata": {},
     "output_type": "execute_result"
    }
   ],
   "source": [
    "# Define labels\n",
    "subtitle, yt_text, output_text = widgets.Label(), widgets.Label(), widgets.Label()\n",
    "\n",
    "# Title\n",
    "subtitle.value = \"Using a XResNet18 architecture and fastai's learning rate optimization (Smith, 2017), predict an audio clip's genre\"\n",
    "\n",
    "# YouTube entry\n",
    "yt_text.value = \"Link some YouTube audio\"\n",
    "yt_input = widgets.Text()\n",
    "\n",
    "submission_btn = widgets.Button(description = 'Classify')\n",
    "submission_btn.on_click(predict_genre)\n",
    "\n",
    "VBox([widgets.Label(\"Music classifier:\"), subtitle, yt_text, yt_input, submission_btn, output_text])\n",
    "\n",
    "# Link: https://www.youtube.com/watch?v=0geT6FWeX8w"
   ]
  },
  {
   "cell_type": "code",
   "execution_count": null,
   "id": "BcQiLuNJSoAc",
   "metadata": {
    "id": "BcQiLuNJSoAc"
   },
   "outputs": [],
   "source": []
  }
 ],
 "metadata": {
  "colab": {
   "provenance": []
  },
  "kernelspec": {
   "display_name": "Python 3 (ipykernel)",
   "language": "python",
   "name": "python3"
  },
  "language_info": {
   "codemirror_mode": {
    "name": "ipython",
    "version": 3
   },
   "file_extension": ".py",
   "mimetype": "text/x-python",
   "name": "python",
   "nbconvert_exporter": "python",
   "pygments_lexer": "ipython3",
   "version": "3.11.5"
  },
  "widgets": {
   "application/vnd.jupyter.widget-state+json": {
    "0aea90e1dbb346e1bfe125c90beca3fd": {
     "model_module": "@jupyter-widgets/controls",
     "model_module_version": "1.5.0",
     "model_name": "ButtonStyleModel",
     "state": {
      "_model_module": "@jupyter-widgets/controls",
      "_model_module_version": "1.5.0",
      "_model_name": "ButtonStyleModel",
      "_view_count": null,
      "_view_module": "@jupyter-widgets/base",
      "_view_module_version": "1.2.0",
      "_view_name": "StyleView",
      "button_color": null,
      "font_weight": ""
     }
    },
    "1878f4e4812b4ac3a249224e7cc95d16": {
     "model_module": "@jupyter-widgets/base",
     "model_module_version": "1.2.0",
     "model_name": "LayoutModel",
     "state": {
      "_model_module": "@jupyter-widgets/base",
      "_model_module_version": "1.2.0",
      "_model_name": "LayoutModel",
      "_view_count": null,
      "_view_module": "@jupyter-widgets/base",
      "_view_module_version": "1.2.0",
      "_view_name": "LayoutView",
      "align_content": null,
      "align_items": null,
      "align_self": null,
      "border": null,
      "bottom": null,
      "display": null,
      "flex": null,
      "flex_flow": null,
      "grid_area": null,
      "grid_auto_columns": null,
      "grid_auto_flow": null,
      "grid_auto_rows": null,
      "grid_column": null,
      "grid_gap": null,
      "grid_row": null,
      "grid_template_areas": null,
      "grid_template_columns": null,
      "grid_template_rows": null,
      "height": null,
      "justify_content": null,
      "justify_items": null,
      "left": null,
      "margin": null,
      "max_height": null,
      "max_width": null,
      "min_height": null,
      "min_width": null,
      "object_fit": null,
      "object_position": null,
      "order": null,
      "overflow": null,
      "overflow_x": null,
      "overflow_y": null,
      "padding": null,
      "right": null,
      "top": null,
      "visibility": null,
      "width": null
     }
    },
    "28a55b792507424da1211adac49c7ef8": {
     "model_module": "@jupyter-widgets/controls",
     "model_module_version": "1.5.0",
     "model_name": "DescriptionStyleModel",
     "state": {
      "_model_module": "@jupyter-widgets/controls",
      "_model_module_version": "1.5.0",
      "_model_name": "DescriptionStyleModel",
      "_view_count": null,
      "_view_module": "@jupyter-widgets/base",
      "_view_module_version": "1.2.0",
      "_view_name": "StyleView",
      "description_width": ""
     }
    },
    "2df30259a9604f3bb589706fa9f6ba2a": {
     "model_module": "@jupyter-widgets/base",
     "model_module_version": "1.2.0",
     "model_name": "LayoutModel",
     "state": {
      "_model_module": "@jupyter-widgets/base",
      "_model_module_version": "1.2.0",
      "_model_name": "LayoutModel",
      "_view_count": null,
      "_view_module": "@jupyter-widgets/base",
      "_view_module_version": "1.2.0",
      "_view_name": "LayoutView",
      "align_content": null,
      "align_items": null,
      "align_self": null,
      "border": null,
      "bottom": null,
      "display": null,
      "flex": null,
      "flex_flow": null,
      "grid_area": null,
      "grid_auto_columns": null,
      "grid_auto_flow": null,
      "grid_auto_rows": null,
      "grid_column": null,
      "grid_gap": null,
      "grid_row": null,
      "grid_template_areas": null,
      "grid_template_columns": null,
      "grid_template_rows": null,
      "height": null,
      "justify_content": null,
      "justify_items": null,
      "left": null,
      "margin": null,
      "max_height": null,
      "max_width": null,
      "min_height": null,
      "min_width": null,
      "object_fit": null,
      "object_position": null,
      "order": null,
      "overflow": null,
      "overflow_x": null,
      "overflow_y": null,
      "padding": null,
      "right": null,
      "top": null,
      "visibility": null,
      "width": null
     }
    },
    "35cecabfd6cc43ee83d3f8c826c60a51": {
     "model_module": "@jupyter-widgets/base",
     "model_module_version": "1.2.0",
     "model_name": "LayoutModel",
     "state": {
      "_model_module": "@jupyter-widgets/base",
      "_model_module_version": "1.2.0",
      "_model_name": "LayoutModel",
      "_view_count": null,
      "_view_module": "@jupyter-widgets/base",
      "_view_module_version": "1.2.0",
      "_view_name": "LayoutView",
      "align_content": null,
      "align_items": null,
      "align_self": null,
      "border": null,
      "bottom": null,
      "display": null,
      "flex": null,
      "flex_flow": null,
      "grid_area": null,
      "grid_auto_columns": null,
      "grid_auto_flow": null,
      "grid_auto_rows": null,
      "grid_column": null,
      "grid_gap": null,
      "grid_row": null,
      "grid_template_areas": null,
      "grid_template_columns": null,
      "grid_template_rows": null,
      "height": null,
      "justify_content": null,
      "justify_items": null,
      "left": null,
      "margin": null,
      "max_height": null,
      "max_width": null,
      "min_height": null,
      "min_width": null,
      "object_fit": null,
      "object_position": null,
      "order": null,
      "overflow": null,
      "overflow_x": null,
      "overflow_y": null,
      "padding": null,
      "right": null,
      "top": null,
      "visibility": null,
      "width": null
     }
    },
    "3906401ca5604a0e9949bc42aeb6741a": {
     "model_module": "@jupyter-widgets/controls",
     "model_module_version": "1.5.0",
     "model_name": "LabelModel",
     "state": {
      "_dom_classes": [],
      "_model_module": "@jupyter-widgets/controls",
      "_model_module_version": "1.5.0",
      "_model_name": "LabelModel",
      "_view_count": null,
      "_view_module": "@jupyter-widgets/controls",
      "_view_module_version": "1.5.0",
      "_view_name": "LabelView",
      "description": "",
      "description_tooltip": null,
      "layout": "IPY_MODEL_da08bb749e994ba69b06529fdc7ae575",
      "placeholder": "​",
      "style": "IPY_MODEL_b4a60a40f0ca4f279d1a03ca986ab96a",
      "value": "Link some YouTube audio"
     }
    },
    "42d8324145ad40c5be29c77d6ef606e2": {
     "model_module": "@jupyter-widgets/controls",
     "model_module_version": "1.5.0",
     "model_name": "DescriptionStyleModel",
     "state": {
      "_model_module": "@jupyter-widgets/controls",
      "_model_module_version": "1.5.0",
      "_model_name": "DescriptionStyleModel",
      "_view_count": null,
      "_view_module": "@jupyter-widgets/base",
      "_view_module_version": "1.2.0",
      "_view_name": "StyleView",
      "description_width": ""
     }
    },
    "4398e570da884c969640462b105b6f7c": {
     "model_module": "@jupyter-widgets/controls",
     "model_module_version": "1.5.0",
     "model_name": "DescriptionStyleModel",
     "state": {
      "_model_module": "@jupyter-widgets/controls",
      "_model_module_version": "1.5.0",
      "_model_name": "DescriptionStyleModel",
      "_view_count": null,
      "_view_module": "@jupyter-widgets/base",
      "_view_module_version": "1.2.0",
      "_view_name": "StyleView",
      "description_width": ""
     }
    },
    "6a934c6b2d2a4831a02fc1225c0e6c2e": {
     "model_module": "@jupyter-widgets/controls",
     "model_module_version": "1.5.0",
     "model_name": "LabelModel",
     "state": {
      "_dom_classes": [],
      "_model_module": "@jupyter-widgets/controls",
      "_model_module_version": "1.5.0",
      "_model_name": "LabelModel",
      "_view_count": null,
      "_view_module": "@jupyter-widgets/controls",
      "_view_module_version": "1.5.0",
      "_view_name": "LabelView",
      "description": "",
      "description_tooltip": null,
      "layout": "IPY_MODEL_8df6c830c6364c0297d5fd43b41861db",
      "placeholder": "​",
      "style": "IPY_MODEL_42d8324145ad40c5be29c77d6ef606e2",
      "value": "Using a XResNet18 architecture and fastai's learning rate optimization (Smith, 2017), predict an audio clip's genre"
     }
    },
    "78fa51967be94addb97eda8517906304": {
     "model_module": "@jupyter-widgets/controls",
     "model_module_version": "1.5.0",
     "model_name": "LabelModel",
     "state": {
      "_dom_classes": [],
      "_model_module": "@jupyter-widgets/controls",
      "_model_module_version": "1.5.0",
      "_model_name": "LabelModel",
      "_view_count": null,
      "_view_module": "@jupyter-widgets/controls",
      "_view_module_version": "1.5.0",
      "_view_name": "LabelView",
      "description": "",
      "description_tooltip": null,
      "layout": "IPY_MODEL_35cecabfd6cc43ee83d3f8c826c60a51",
      "placeholder": "​",
      "style": "IPY_MODEL_e1b19c7e62c7415c87cd0fcd49cae190",
      "value": "Music classifier:"
     }
    },
    "7916931c122649ec8945a13589488e0a": {
     "model_module": "@jupyter-widgets/controls",
     "model_module_version": "1.5.0",
     "model_name": "VBoxModel",
     "state": {
      "_dom_classes": [],
      "_model_module": "@jupyter-widgets/controls",
      "_model_module_version": "1.5.0",
      "_model_name": "VBoxModel",
      "_view_count": null,
      "_view_module": "@jupyter-widgets/controls",
      "_view_module_version": "1.5.0",
      "_view_name": "VBoxView",
      "box_style": "",
      "children": [
       "IPY_MODEL_78fa51967be94addb97eda8517906304",
       "IPY_MODEL_6a934c6b2d2a4831a02fc1225c0e6c2e",
       "IPY_MODEL_3906401ca5604a0e9949bc42aeb6741a",
       "IPY_MODEL_856ee72ce0ba476cab1e45c78b644252",
       "IPY_MODEL_a1b4128bcbd64cfa851f234768af33a0",
       "IPY_MODEL_c6dbcb6e214e47ce9bdf47611399e976"
      ],
      "layout": "IPY_MODEL_2df30259a9604f3bb589706fa9f6ba2a"
     }
    },
    "856ee72ce0ba476cab1e45c78b644252": {
     "model_module": "@jupyter-widgets/controls",
     "model_module_version": "1.5.0",
     "model_name": "TextModel",
     "state": {
      "_dom_classes": [],
      "_model_module": "@jupyter-widgets/controls",
      "_model_module_version": "1.5.0",
      "_model_name": "TextModel",
      "_view_count": null,
      "_view_module": "@jupyter-widgets/controls",
      "_view_module_version": "1.5.0",
      "_view_name": "TextView",
      "continuous_update": true,
      "description": "",
      "description_tooltip": null,
      "disabled": false,
      "layout": "IPY_MODEL_1878f4e4812b4ac3a249224e7cc95d16",
      "placeholder": "​",
      "style": "IPY_MODEL_4398e570da884c969640462b105b6f7c",
      "value": "https://www.youtube.com/watch?v=0geT6FWeX8w"
     }
    },
    "8df6c830c6364c0297d5fd43b41861db": {
     "model_module": "@jupyter-widgets/base",
     "model_module_version": "1.2.0",
     "model_name": "LayoutModel",
     "state": {
      "_model_module": "@jupyter-widgets/base",
      "_model_module_version": "1.2.0",
      "_model_name": "LayoutModel",
      "_view_count": null,
      "_view_module": "@jupyter-widgets/base",
      "_view_module_version": "1.2.0",
      "_view_name": "LayoutView",
      "align_content": null,
      "align_items": null,
      "align_self": null,
      "border": null,
      "bottom": null,
      "display": null,
      "flex": null,
      "flex_flow": null,
      "grid_area": null,
      "grid_auto_columns": null,
      "grid_auto_flow": null,
      "grid_auto_rows": null,
      "grid_column": null,
      "grid_gap": null,
      "grid_row": null,
      "grid_template_areas": null,
      "grid_template_columns": null,
      "grid_template_rows": null,
      "height": null,
      "justify_content": null,
      "justify_items": null,
      "left": null,
      "margin": null,
      "max_height": null,
      "max_width": null,
      "min_height": null,
      "min_width": null,
      "object_fit": null,
      "object_position": null,
      "order": null,
      "overflow": null,
      "overflow_x": null,
      "overflow_y": null,
      "padding": null,
      "right": null,
      "top": null,
      "visibility": null,
      "width": null
     }
    },
    "9c0b43b9041c4971bc49234f68ca05da": {
     "model_module": "@jupyter-widgets/base",
     "model_module_version": "1.2.0",
     "model_name": "LayoutModel",
     "state": {
      "_model_module": "@jupyter-widgets/base",
      "_model_module_version": "1.2.0",
      "_model_name": "LayoutModel",
      "_view_count": null,
      "_view_module": "@jupyter-widgets/base",
      "_view_module_version": "1.2.0",
      "_view_name": "LayoutView",
      "align_content": null,
      "align_items": null,
      "align_self": null,
      "border": null,
      "bottom": null,
      "display": null,
      "flex": null,
      "flex_flow": null,
      "grid_area": null,
      "grid_auto_columns": null,
      "grid_auto_flow": null,
      "grid_auto_rows": null,
      "grid_column": null,
      "grid_gap": null,
      "grid_row": null,
      "grid_template_areas": null,
      "grid_template_columns": null,
      "grid_template_rows": null,
      "height": null,
      "justify_content": null,
      "justify_items": null,
      "left": null,
      "margin": null,
      "max_height": null,
      "max_width": null,
      "min_height": null,
      "min_width": null,
      "object_fit": null,
      "object_position": null,
      "order": null,
      "overflow": null,
      "overflow_x": null,
      "overflow_y": null,
      "padding": null,
      "right": null,
      "top": null,
      "visibility": null,
      "width": null
     }
    },
    "a1b4128bcbd64cfa851f234768af33a0": {
     "model_module": "@jupyter-widgets/controls",
     "model_module_version": "1.5.0",
     "model_name": "ButtonModel",
     "state": {
      "_dom_classes": [],
      "_model_module": "@jupyter-widgets/controls",
      "_model_module_version": "1.5.0",
      "_model_name": "ButtonModel",
      "_view_count": null,
      "_view_module": "@jupyter-widgets/controls",
      "_view_module_version": "1.5.0",
      "_view_name": "ButtonView",
      "button_style": "",
      "description": "Classify",
      "disabled": false,
      "icon": "",
      "layout": "IPY_MODEL_d3d1132ce6ff4d16b36c577049d4e3ed",
      "style": "IPY_MODEL_0aea90e1dbb346e1bfe125c90beca3fd",
      "tooltip": ""
     }
    },
    "b4a60a40f0ca4f279d1a03ca986ab96a": {
     "model_module": "@jupyter-widgets/controls",
     "model_module_version": "1.5.0",
     "model_name": "DescriptionStyleModel",
     "state": {
      "_model_module": "@jupyter-widgets/controls",
      "_model_module_version": "1.5.0",
      "_model_name": "DescriptionStyleModel",
      "_view_count": null,
      "_view_module": "@jupyter-widgets/base",
      "_view_module_version": "1.2.0",
      "_view_name": "StyleView",
      "description_width": ""
     }
    },
    "c6dbcb6e214e47ce9bdf47611399e976": {
     "model_module": "@jupyter-widgets/controls",
     "model_module_version": "1.5.0",
     "model_name": "LabelModel",
     "state": {
      "_dom_classes": [],
      "_model_module": "@jupyter-widgets/controls",
      "_model_module_version": "1.5.0",
      "_model_name": "LabelModel",
      "_view_count": null,
      "_view_module": "@jupyter-widgets/controls",
      "_view_module_version": "1.5.0",
      "_view_name": "LabelView",
      "description": "",
      "description_tooltip": null,
      "layout": "IPY_MODEL_9c0b43b9041c4971bc49234f68ca05da",
      "placeholder": "​",
      "style": "IPY_MODEL_28a55b792507424da1211adac49c7ef8",
      "value": ""
     }
    },
    "d3d1132ce6ff4d16b36c577049d4e3ed": {
     "model_module": "@jupyter-widgets/base",
     "model_module_version": "1.2.0",
     "model_name": "LayoutModel",
     "state": {
      "_model_module": "@jupyter-widgets/base",
      "_model_module_version": "1.2.0",
      "_model_name": "LayoutModel",
      "_view_count": null,
      "_view_module": "@jupyter-widgets/base",
      "_view_module_version": "1.2.0",
      "_view_name": "LayoutView",
      "align_content": null,
      "align_items": null,
      "align_self": null,
      "border": null,
      "bottom": null,
      "display": null,
      "flex": null,
      "flex_flow": null,
      "grid_area": null,
      "grid_auto_columns": null,
      "grid_auto_flow": null,
      "grid_auto_rows": null,
      "grid_column": null,
      "grid_gap": null,
      "grid_row": null,
      "grid_template_areas": null,
      "grid_template_columns": null,
      "grid_template_rows": null,
      "height": null,
      "justify_content": null,
      "justify_items": null,
      "left": null,
      "margin": null,
      "max_height": null,
      "max_width": null,
      "min_height": null,
      "min_width": null,
      "object_fit": null,
      "object_position": null,
      "order": null,
      "overflow": null,
      "overflow_x": null,
      "overflow_y": null,
      "padding": null,
      "right": null,
      "top": null,
      "visibility": null,
      "width": null
     }
    },
    "da08bb749e994ba69b06529fdc7ae575": {
     "model_module": "@jupyter-widgets/base",
     "model_module_version": "1.2.0",
     "model_name": "LayoutModel",
     "state": {
      "_model_module": "@jupyter-widgets/base",
      "_model_module_version": "1.2.0",
      "_model_name": "LayoutModel",
      "_view_count": null,
      "_view_module": "@jupyter-widgets/base",
      "_view_module_version": "1.2.0",
      "_view_name": "LayoutView",
      "align_content": null,
      "align_items": null,
      "align_self": null,
      "border": null,
      "bottom": null,
      "display": null,
      "flex": null,
      "flex_flow": null,
      "grid_area": null,
      "grid_auto_columns": null,
      "grid_auto_flow": null,
      "grid_auto_rows": null,
      "grid_column": null,
      "grid_gap": null,
      "grid_row": null,
      "grid_template_areas": null,
      "grid_template_columns": null,
      "grid_template_rows": null,
      "height": null,
      "justify_content": null,
      "justify_items": null,
      "left": null,
      "margin": null,
      "max_height": null,
      "max_width": null,
      "min_height": null,
      "min_width": null,
      "object_fit": null,
      "object_position": null,
      "order": null,
      "overflow": null,
      "overflow_x": null,
      "overflow_y": null,
      "padding": null,
      "right": null,
      "top": null,
      "visibility": null,
      "width": null
     }
    },
    "e1b19c7e62c7415c87cd0fcd49cae190": {
     "model_module": "@jupyter-widgets/controls",
     "model_module_version": "1.5.0",
     "model_name": "DescriptionStyleModel",
     "state": {
      "_model_module": "@jupyter-widgets/controls",
      "_model_module_version": "1.5.0",
      "_model_name": "DescriptionStyleModel",
      "_view_count": null,
      "_view_module": "@jupyter-widgets/base",
      "_view_module_version": "1.2.0",
      "_view_name": "StyleView",
      "description_width": ""
     }
    }
   }
  }
 },
 "nbformat": 4,
 "nbformat_minor": 5
}
